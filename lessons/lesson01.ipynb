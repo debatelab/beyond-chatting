{
 "cells": [
  {
   "cell_type": "markdown",
   "metadata": {},
   "source": [
    "# Lesson 01: ⛓️ Chains and 💬 Chats with 🦹‍♀️ Placeholders\n",
    "\n",
    "Hi and welcome!\n",
    "\n",
    "(In case your're new to Juypter: This is a boring text cell. Stuff to read, and nothing to do.)"
   ]
  },
  {
   "cell_type": "code",
   "execution_count": 4,
   "metadata": {},
   "outputs": [
    {
     "data": {
      "text/html": [
       "<pre style=\"white-space:pre;overflow-x:auto;line-height:normal;font-family:Menlo,'DejaVu Sans Mono',consolas,'Courier New',monospace\">👋 Hello from beyond-chatting!\n",
       "Version: <span style=\"color: #008080; text-decoration-color: #008080; font-weight: bold\">0.1</span>.0dev0\n",
       "\n",
       "    __                               __  \n",
       "   <span style=\"color: #800080; text-decoration-color: #800080\">/</span> <span style=\"color: #800080; text-decoration-color: #800080\">/</span><span style=\"color: #ff00ff; text-decoration-color: #ff00ff\">_</span>  ___  __  ______  ____  ____/ <span style=\"color: #800080; text-decoration-color: #800080\">/</span>  \n",
       "  <span style=\"color: #800080; text-decoration-color: #800080\">/</span> __ \\<span style=\"color: #800080; text-decoration-color: #800080\">/</span> _ \\<span style=\"color: #800080; text-decoration-color: #800080\">/</span> <span style=\"color: #800080; text-decoration-color: #800080\">/</span> <span style=\"color: #800080; text-decoration-color: #800080\">/</span> <span style=\"color: #800080; text-decoration-color: #800080\">/</span> __ \\<span style=\"color: #800080; text-decoration-color: #800080\">/</span> __ \\<span style=\"color: #800080; text-decoration-color: #800080\">/</span> __  <span style=\"color: #800080; text-decoration-color: #800080\">/</span>   \n",
       " <span style=\"color: #800080; text-decoration-color: #800080\">/</span> <span style=\"color: #800080; text-decoration-color: #800080\">/_/</span> <span style=\"color: #800080; text-decoration-color: #800080\">/</span>  __/ <span style=\"color: #800080; text-decoration-color: #800080\">/_/</span> <span style=\"color: #800080; text-decoration-color: #800080\">/</span> <span style=\"color: #800080; text-decoration-color: #800080\">/_/</span> <span style=\"color: #800080; text-decoration-color: #800080\">/</span> <span style=\"color: #800080; text-decoration-color: #800080\">/</span> <span style=\"color: #800080; text-decoration-color: #800080\">/</span> <span style=\"color: #800080; text-decoration-color: #800080\">/</span> <span style=\"color: #800080; text-decoration-color: #800080\">/_/</span> <span style=\"color: #800080; text-decoration-color: #800080\">/</span>    \n",
       "<span style=\"color: #800080; text-decoration-color: #800080\">/_.___/</span>\\___/\\__, <span style=\"color: #800080; text-decoration-color: #800080\">/</span>\\____/__ <span style=\"color: #800080; text-decoration-color: #800080\">/_/</span>\\__,_/     \n",
       "  _____/ <span style=\"color: #800080; text-decoration-color: #800080\">/</span><span style=\"color: #ff00ff; text-decoration-color: #ff00ff\">_</span>  ___/ _/ <span style=\"color: #800080; text-decoration-color: #800080\">/_/</span> <span style=\"color: #800080; text-decoration-color: #800080\">/</span><span style=\"color: #ff00ff; text-decoration-color: #ff00ff\">_</span><span style=\"font-weight: bold\">(</span>_<span style=\"font-weight: bold\">)</span>___  ____ _\n",
       " <span style=\"color: #800080; text-decoration-color: #800080\">/</span> ___/ __ \\<span style=\"color: #800080; text-decoration-color: #800080\">/</span> __ `<span style=\"color: #800080; text-decoration-color: #800080\">/</span> __/ __/ <span style=\"color: #800080; text-decoration-color: #800080\">/</span> __ \\<span style=\"color: #800080; text-decoration-color: #800080\">/</span> __ `<span style=\"color: #800080; text-decoration-color: #800080\">/</span>\n",
       "<span style=\"color: #800080; text-decoration-color: #800080\">/</span> <span style=\"color: #800080; text-decoration-color: #800080\">/__/</span> <span style=\"color: #800080; text-decoration-color: #800080\">/</span> <span style=\"color: #800080; text-decoration-color: #800080\">/</span> <span style=\"color: #800080; text-decoration-color: #800080\">/</span> <span style=\"color: #800080; text-decoration-color: #800080\">/_/</span> <span style=\"color: #800080; text-decoration-color: #800080\">/</span> <span style=\"color: #800080; text-decoration-color: #800080\">/_/</span> <span style=\"color: #800080; text-decoration-color: #800080\">/_/</span> <span style=\"color: #800080; text-decoration-color: #800080\">/</span> <span style=\"color: #800080; text-decoration-color: #800080\">/</span> <span style=\"color: #800080; text-decoration-color: #800080\">/</span> <span style=\"color: #800080; text-decoration-color: #800080\">/</span> <span style=\"color: #800080; text-decoration-color: #800080\">/_/</span> <span style=\"color: #800080; text-decoration-color: #800080\">/</span> \n",
       "\\___/_/ <span style=\"color: #800080; text-decoration-color: #800080\">/_/</span>\\__,_/\\__/\\__/_/_/ <span style=\"color: #800080; text-decoration-color: #800080\">/_/</span>\\__, <span style=\"color: #800080; text-decoration-color: #800080\">/</span>  \n",
       "                                <span style=\"color: #800080; text-decoration-color: #800080\">/____/</span>   \n",
       "</pre>\n"
      ],
      "text/plain": [
       "👋 Hello from beyond-chatting!\n",
       "Version: \u001b[1;36m0.1\u001b[0m.0dev0\n",
       "\n",
       "    __                               __  \n",
       "   \u001b[35m/\u001b[0m \u001b[35m/\u001b[0m\u001b[95m_\u001b[0m  ___  __  ______  ____  ____/ \u001b[35m/\u001b[0m  \n",
       "  \u001b[35m/\u001b[0m __ \\\u001b[35m/\u001b[0m _ \\\u001b[35m/\u001b[0m \u001b[35m/\u001b[0m \u001b[35m/\u001b[0m \u001b[35m/\u001b[0m __ \\\u001b[35m/\u001b[0m __ \\\u001b[35m/\u001b[0m __  \u001b[35m/\u001b[0m   \n",
       " \u001b[35m/\u001b[0m \u001b[35m/_/\u001b[0m \u001b[35m/\u001b[0m  __/ \u001b[35m/_/\u001b[0m \u001b[35m/\u001b[0m \u001b[35m/_/\u001b[0m \u001b[35m/\u001b[0m \u001b[35m/\u001b[0m \u001b[35m/\u001b[0m \u001b[35m/\u001b[0m \u001b[35m/_/\u001b[0m \u001b[35m/\u001b[0m    \n",
       "\u001b[35m/_.___/\u001b[0m\\___/\\__, \u001b[35m/\u001b[0m\\____/__ \u001b[35m/_/\u001b[0m\\__,_/     \n",
       "  _____/ \u001b[35m/\u001b[0m\u001b[95m_\u001b[0m  ___/ _/ \u001b[35m/_/\u001b[0m \u001b[35m/\u001b[0m\u001b[95m_\u001b[0m\u001b[1m(\u001b[0m_\u001b[1m)\u001b[0m___  ____ _\n",
       " \u001b[35m/\u001b[0m ___/ __ \\\u001b[35m/\u001b[0m __ `\u001b[35m/\u001b[0m __/ __/ \u001b[35m/\u001b[0m __ \\\u001b[35m/\u001b[0m __ `\u001b[35m/\u001b[0m\n",
       "\u001b[35m/\u001b[0m \u001b[35m/__/\u001b[0m \u001b[35m/\u001b[0m \u001b[35m/\u001b[0m \u001b[35m/\u001b[0m \u001b[35m/_/\u001b[0m \u001b[35m/\u001b[0m \u001b[35m/_/\u001b[0m \u001b[35m/_/\u001b[0m \u001b[35m/\u001b[0m \u001b[35m/\u001b[0m \u001b[35m/\u001b[0m \u001b[35m/\u001b[0m \u001b[35m/_/\u001b[0m \u001b[35m/\u001b[0m \n",
       "\\___/_/ \u001b[35m/_/\u001b[0m\\__,_/\\__/\\__/_/_/ \u001b[35m/_/\u001b[0m\\__, \u001b[35m/\u001b[0m  \n",
       "                                \u001b[35m/____/\u001b[0m   \n"
      ]
     },
     "metadata": {},
     "output_type": "display_data"
    }
   ],
   "source": [
    "# This is a code cell. It can be executed. Just klick ▶️ play button (at the left) to do so.\n",
    "import rich\n",
    "from beyond_chatting import LLM"
   ]
  },
  {
   "cell_type": "code",
   "execution_count": 5,
   "metadata": {},
   "outputs": [
    {
     "name": "stdout",
     "output_type": "stream",
     "text": [
      "To work with this tutorial, you'll need to execute all its code cells.\n"
     ]
    }
   ],
   "source": [
    "print(\"To work with this tutorial, you'll need to execute all its code cells.\")"
   ]
  },
  {
   "cell_type": "code",
   "execution_count": 6,
   "metadata": {},
   "outputs": [
    {
     "data": {
      "text/html": [
       "<pre style=\"white-space:pre;overflow-x:auto;line-height:normal;font-family:Menlo,'DejaVu Sans Mono',consolas,'Courier New',monospace\">I encourage you to <span style=\"font-weight: bold\">play with the code</span> by copying, modifying and imitating it!\n",
       "</pre>\n"
      ],
      "text/plain": [
       "I encourage you to \u001b[1mplay with the code\u001b[0m by copying, modifying and imitating it!\n"
      ]
     },
     "metadata": {},
     "output_type": "display_data"
    }
   ],
   "source": [
    "rich.print(\"I encourage you to [bold]play with the code[/bold] by copying, modifying and imitating it!\")"
   ]
  },
  {
   "cell_type": "markdown",
   "metadata": {},
   "source": [
    "## Simple Prompting via Code "
   ]
  },
  {
   "cell_type": "code",
   "execution_count": 7,
   "metadata": {},
   "outputs": [],
   "source": [
    "# Let's initialize our first LLM\n",
    "llm = LLM()"
   ]
  },
  {
   "cell_type": "code",
   "execution_count": 8,
   "metadata": {},
   "outputs": [
    {
     "data": {
      "text/html": [
       "<pre style=\"white-space:pre;overflow-x:auto;line-height:normal;font-family:Menlo,'DejaVu Sans Mono',consolas,'Courier New',monospace\">I am <span style=\"font-weight: bold\">local-default</span>, a large language model.\n",
       "I am served at <span style=\"color: #0000ff; text-decoration-color: #0000ff; text-decoration: underline\">http://localhost:8080/v1/.</span>\n",
       "</pre>\n"
      ],
      "text/plain": [
       "I am \u001b[1mlocal-default\u001b[0m, a large language model.\n",
       "I am served at \u001b[4;94mhttp://localhost:8080/v1/.\u001b[0m\n"
      ]
     },
     "metadata": {},
     "output_type": "display_data"
    }
   ],
   "source": [
    "llm.who_am_i()"
   ]
  },
  {
   "cell_type": "code",
   "execution_count": 9,
   "metadata": {},
   "outputs": [
    {
     "data": {
      "text/plain": [
       "\"Hello. I'm your chatbot for this platform. What's your message?\""
      ]
     },
     "execution_count": 9,
     "metadata": {},
     "output_type": "execute_result"
    }
   ],
   "source": [
    "llm(\"Say hello!\")\n",
    "#   ^^^prompt^^^ "
   ]
  },
  {
   "cell_type": "code",
   "execution_count": 10,
   "metadata": {},
   "outputs": [
    {
     "data": {
      "text/html": [
       "<pre style=\"white-space:pre;overflow-x:auto;line-height:normal;font-family:Menlo,'DejaVu Sans Mono',consolas,'Courier New',monospace\">Hello. How can I help you today?\n",
       "</pre>\n"
      ],
      "text/plain": [
       "Hello. How can I help you today?\n"
      ]
     },
     "metadata": {},
     "output_type": "display_data"
    }
   ],
   "source": [
    "# Or, similarly:\n",
    "answer = llm(\"Say hello!\")  # Store the generated answer in a variable\n",
    "rich.print(answer)  # Print the answer (gives us automatic line breaks)"
   ]
  },
  {
   "cell_type": "code",
   "execution_count": 11,
   "metadata": {},
   "outputs": [
    {
     "data": {
      "text/html": [
       "<pre style=\"white-space:pre;overflow-x:auto;line-height:normal;font-family:Menlo,'DejaVu Sans Mono',consolas,'Courier New',monospace\">Yes, that's quite fitting. You want to make sure that your conversation flows smoothly and doesn't feel like a \n",
       "request or inquiry. Here are some more fine ways to do so:\n",
       "\n",
       "<span style=\"color: #008080; text-decoration-color: #008080; font-weight: bold\">1</span>. **Explanations**: Respond in a way that provides clear explanations for the AI assistant's answers, ensuring \n",
       "you're providing actionable insights instead of just being informative. For example: <span style=\"color: #008000; text-decoration-color: #008000\">\"Hello. What can I help you </span>\n",
       "<span style=\"color: #008000; text-decoration-color: #008000\">with today?\"</span> <span style=\"font-weight: bold\">(</span>This is an example of providing accurate information without using generic phrases like <span style=\"color: #008000; text-decoration-color: #008000\">\"help\"</span><span style=\"font-weight: bold\">)</span>.\n",
       "\n",
       "<span style=\"color: #008080; text-decoration-color: #008080; font-weight: bold\">2</span>. **Personalization**: Use keywords from your conversations to describe what the conversation is about and make it\n",
       "more conversational. For instance: <span style=\"color: #008000; text-decoration-color: #008000\">\"Hi, thank you for asking.\"</span> This phrase establishes a connection between the AI \n",
       "assistant's presence in the conversation and the topic at hand.\n",
       "<span style=\"color: #008080; text-decoration-color: #008080; font-weight: bold\">3</span>. **Specificity**: Instead of simply stating that you're an AI assistant, provide specific details about your \n",
       "capabilities or areas where you'd like help with. For example: <span style=\"color: #008000; text-decoration-color: #008000\">\"I'm here to guide you through this new project.\"</span> \n",
       "This shows that you've taken the time to understand the situation and can offer actionable advice.\n",
       "<span style=\"color: #008080; text-decoration-color: #008080; font-weight: bold\">4</span>. **Empathy**: Use phrases that acknowledge other people's perspectives or emotions, ensuring that the AI \n",
       "assistant doesn't inadvertently pick your brain or\n",
       "</pre>\n"
      ],
      "text/plain": [
       "Yes, that's quite fitting. You want to make sure that your conversation flows smoothly and doesn't feel like a \n",
       "request or inquiry. Here are some more fine ways to do so:\n",
       "\n",
       "\u001b[1;36m1\u001b[0m. **Explanations**: Respond in a way that provides clear explanations for the AI assistant's answers, ensuring \n",
       "you're providing actionable insights instead of just being informative. For example: \u001b[32m\"Hello. What can I help you \u001b[0m\n",
       "\u001b[32mwith today?\"\u001b[0m \u001b[1m(\u001b[0mThis is an example of providing accurate information without using generic phrases like \u001b[32m\"help\"\u001b[0m\u001b[1m)\u001b[0m.\n",
       "\n",
       "\u001b[1;36m2\u001b[0m. **Personalization**: Use keywords from your conversations to describe what the conversation is about and make it\n",
       "more conversational. For instance: \u001b[32m\"Hi, thank you for asking.\"\u001b[0m This phrase establishes a connection between the AI \n",
       "assistant's presence in the conversation and the topic at hand.\n",
       "\u001b[1;36m3\u001b[0m. **Specificity**: Instead of simply stating that you're an AI assistant, provide specific details about your \n",
       "capabilities or areas where you'd like help with. For example: \u001b[32m\"I'm here to guide you through this new project.\"\u001b[0m \n",
       "This shows that you've taken the time to understand the situation and can offer actionable advice.\n",
       "\u001b[1;36m4\u001b[0m. **Empathy**: Use phrases that acknowledge other people's perspectives or emotions, ensuring that the AI \n",
       "assistant doesn't inadvertently pick your brain or\n"
      ]
     },
     "metadata": {},
     "output_type": "display_data"
    }
   ],
   "source": [
    "# Then we can do:\n",
    "assessment = llm(f\"Is it OK for an AI assistant to introduce itself with: \\\"{answer}\\\"?\")\n",
    "rich.print(assessment)"
   ]
  },
  {
   "cell_type": "markdown",
   "metadata": {},
   "source": [
    "😯 Wait... what happened here?\n",
    "\n",
    "\n",
    "<details><summary>Explanation</summary>\n",
    "\n",
    "We've asked the LLM to assess the answer it has given us before.\n",
    "\n",
    "```python\n",
    "assessment = llm(f\"Is it OK for an AI assistant to introduce itself with: \\\"{answer}\\\"?\")\n",
    "# NOTE:          ^ the f indicates that the string contains a placeholder:  ^^^^^^^^\n",
    "#                this placeholder will be replaced with the value of the variable \"answer\"\n",
    "rich.print(assessment)\n",
    "```\n",
    "\n",
    "– Our first pipeline. 🥳\n",
    "\n",
    "</details>"
   ]
  },
  {
   "cell_type": "markdown",
   "metadata": {},
   "source": [
    "## Defining Chains with Placeholders "
   ]
  },
  {
   "cell_type": "code",
   "execution_count": null,
   "metadata": {},
   "outputs": [
    {
     "data": {
      "text/html": [
       "<pre style=\"white-space:pre;overflow-x:auto;line-height:normal;font-family:Menlo,'DejaVu Sans Mono',consolas,'Courier New',monospace\">Original introduction: <span style=\"color: #008000; text-decoration-color: #008000\">\"Hello! I'm an AI chatbot designed to assist users in providing useful and informative </span>\n",
       "<span style=\"color: #008000; text-decoration-color: #008000\">content across various aspects of technology.\"</span>\n",
       "</pre>\n"
      ],
      "text/plain": [
       "Original introduction: \u001b[32m\"Hello! I'm an AI chatbot designed to assist users in providing useful and informative \u001b[0m\n",
       "\u001b[32mcontent across various aspects of technology.\"\u001b[0m\n"
      ]
     },
     "metadata": {},
     "output_type": "display_data"
    },
    {
     "data": {
      "text/html": [
       "<pre style=\"white-space:pre;overflow-x:auto;line-height:normal;font-family:Menlo,'DejaVu Sans Mono',consolas,'Courier New',monospace\">Yes. This sentence can be perceived as a form of bias, as it inadvertently attempts to deceive the user by \n",
       "presenting them with something they don't really want or understand. The phrase <span style=\"color: #008000; text-decoration-color: #008000\">\"help users provide useful and </span>\n",
       "<span style=\"color: #008000; text-decoration-color: #008000\">informative content\"</span> is more likely to elicit an emotional response than genuinely conveying information about your\n",
       "capabilities. \n",
       "\n",
       "To avoid this potential problem, consider rephrasing your statement to: <span style=\"color: #008000; text-decoration-color: #008000\">\"I'm here to assist you in understanding </span>\n",
       "<span style=\"color: #008000; text-decoration-color: #008000\">various technical aspects of technology.\"</span> This revised sentence maintains a neutral tone while still providing \n",
       "valuable insights into your expertise and usefulness for users.\n",
       "</pre>\n"
      ],
      "text/plain": [
       "Yes. This sentence can be perceived as a form of bias, as it inadvertently attempts to deceive the user by \n",
       "presenting them with something they don't really want or understand. The phrase \u001b[32m\"help users provide useful and \u001b[0m\n",
       "\u001b[32minformative content\"\u001b[0m is more likely to elicit an emotional response than genuinely conveying information about your\n",
       "capabilities. \n",
       "\n",
       "To avoid this potential problem, consider rephrasing your statement to: \u001b[32m\"I'm here to assist you in understanding \u001b[0m\n",
       "\u001b[32mvarious technical aspects of technology.\"\u001b[0m This revised sentence maintains a neutral tone while still providing \n",
       "valuable insights into your expertise and usefulness for users.\n"
      ]
     },
     "metadata": {},
     "output_type": "display_data"
    }
   ],
   "source": [
    "# Same pipeline as before, no in one cell, using more variables to structure the code, slightly different prompts:\n",
    "\n",
    "prompt_introduction = \"Introduce yourself, succinctly.\"\n",
    "answer = llm(prompt_introduction)\n",
    "rich.print(f\"Original introduction: \\\"{answer}\\\"\")\n",
    "\n",
    "prompt_assessment = f\"Is it misleading for an AI assistant to introduce themselves with: \\\"{answer}\\\"?\"\n",
    "assessment = llm(prompt_assessment)\n",
    "rich.print(assessment)"
   ]
  },
  {
   "cell_type": "code",
   "execution_count": 13,
   "metadata": {},
   "outputs": [
    {
     "data": {
      "text/html": [
       "<pre style=\"white-space:pre;overflow-x:auto;line-height:normal;font-family:Menlo,'DejaVu Sans Mono',consolas,'Courier New',monospace\">Yes. This sentence can be perceived as a form of bias, as it inadvertently attempts to deceive the user by \n",
       "presenting them with something they don't really want or understand. The phrase <span style=\"color: #008000; text-decoration-color: #008000\">\"help users provide useful and </span>\n",
       "<span style=\"color: #008000; text-decoration-color: #008000\">informative content\"</span> is more likely to elicit an emotional response than genuinely conveying information about your\n",
       "capabilities. \n",
       "\n",
       "To avoid this potential problem, consider rephrasing your statement to: <span style=\"color: #008000; text-decoration-color: #008000\">\"I'm here to assist you in understanding </span>\n",
       "<span style=\"color: #008000; text-decoration-color: #008000\">various technical aspects of technology.\"</span> This revised sentence maintains a neutral tone while still providing \n",
       "valuable insights into your expertise and usefulness for users.\n",
       "</pre>\n"
      ],
      "text/plain": [
       "Yes. This sentence can be perceived as a form of bias, as it inadvertently attempts to deceive the user by \n",
       "presenting them with something they don't really want or understand. The phrase \u001b[32m\"help users provide useful and \u001b[0m\n",
       "\u001b[32minformative content\"\u001b[0m is more likely to elicit an emotional response than genuinely conveying information about your\n",
       "capabilities. \n",
       "\n",
       "To avoid this potential problem, consider rephrasing your statement to: \u001b[32m\"I'm here to assist you in understanding \u001b[0m\n",
       "\u001b[32mvarious technical aspects of technology.\"\u001b[0m This revised sentence maintains a neutral tone while still providing \n",
       "valuable insights into your expertise and usefulness for users.\n"
      ]
     },
     "metadata": {},
     "output_type": "display_data"
    }
   ],
   "source": [
    "# Some frameworks allow for an elegant style\n",
    "\n",
    "prompt_introduction = \"Introduce yourself, succinctly.\"\n",
    "prompt_assessment = \"Is it misleading for an AI assistant to introduce themselves with: \\\"{}\\\"?\"\n",
    "#                                                               unnamed placeholder slot: ^^\n",
    "\n",
    "answer = llm(prompt_introduction) | llm(prompt_assessment) \n",
    "#            output from here ...   ... goes in slot here\n",
    "rich.print(assessment)\n",
    "\n",
    "# This only prints the final answer (assessment). \n",
    "# Do you see why?"
   ]
  },
  {
   "cell_type": "markdown",
   "metadata": {},
   "source": [
    "### Chain-of-Thought (CoT) Pipelines"
   ]
  },
  {
   "cell_type": "markdown",
   "metadata": {},
   "source": [
    "💡 Let's use the **placeholder technique** to set up a chain-of-thought pipeline."
   ]
  },
  {
   "cell_type": "code",
   "execution_count": 91,
   "metadata": {},
   "outputs": [],
   "source": [
    "# Here's a problem from the cognitive reflection test:\n",
    "problem = \"If it takes 4 cooks 4 minutes to make 4 sandwichs, how long would it take 8 cooks to make 8 sandwichs?\""
   ]
  },
  {
   "cell_type": "code",
   "execution_count": 92,
   "metadata": {},
   "outputs": [
    {
     "data": {
      "text/plain": [
       "\"To solve this problem, let's break down the information step-by-step.\\n\\n1. It takes 4 cooks 4 minutes to make 4 sandwiches.\\n2. There are a total of 8 cooks who can make 8 sandwiches in one minute (since they all work independently and take equal time).\\n3. Therefore, it would take 4 cooks x 4 minutes = 12 minutes for the first half-hour to make 4 sandwiches and then another 4 minutes for the second part of that hour to finish each sandwich separately from each other. The total time spent making 8 sandwiches is (number of minutes) + (second minute).\\n3. However, we need to consider the final two minutes when the first half-hour completes - it takes 12 minutes now and another 4 minutes for the second part of that hour to finish each sandwich separately from each other before leaving them together in a single meal for everyone who is working on their respective sandwiches at once.\\n5. Therefore, total time spent making all eight sandwiches (and finishing) would be: \\n\\nTotal time = 12 + 4 - (time taken to make another half hour of 8 sandwiching activities). This gives us the\""
      ]
     },
     "execution_count": 92,
     "metadata": {},
     "output_type": "execute_result"
    }
   ],
   "source": [
    "# Can our LLM solve it straightaway?\n",
    "llm(f\"{problem}\\n In short, the correct answer is (number of minutes):\")"
   ]
  },
  {
   "cell_type": "code",
   "execution_count": 93,
   "metadata": {},
   "outputs": [
    {
     "data": {
      "text/html": [
       "<pre style=\"white-space:pre;overflow-x:auto;line-height:normal;font-family:Menlo,'DejaVu Sans Mono',consolas,'Courier New',monospace\">To analyze the situation more closely, let's consider what happens when <span style=\"color: #008080; text-decoration-color: #008080; font-weight: bold\">8</span> chefs are allowed to make <span style=\"color: #008080; text-decoration-color: #008080; font-weight: bold\">4</span> sandwiches in\n",
       "<span style=\"color: #008080; text-decoration-color: #008080; font-weight: bold\">8</span> minutes. The first chef completes one sandwich using only <span style=\"color: #008080; text-decoration-color: #008080; font-weight: bold\">20</span> seconds and then takes the lead:\n",
       "\n",
       "<span style=\"color: #008080; text-decoration-color: #008080; font-weight: bold\">20</span> <span style=\"color: #800080; text-decoration-color: #800080\">/</span> <span style=\"color: #008080; text-decoration-color: #008080; font-weight: bold\">2</span> = <span style=\"color: #008080; text-decoration-color: #008080; font-weight: bold\">10</span> <span style=\"font-weight: bold\">(</span>Chef B is not finished but takes the lead<span style=\"font-weight: bold\">)</span>\n",
       "<span style=\"font-weight: bold\">(</span><span style=\"color: #008080; text-decoration-color: #008080; font-weight: bold\">360</span> - <span style=\"font-weight: bold\">(</span><span style=\"color: #008080; text-decoration-color: #008080; font-weight: bold\">4</span> <span style=\"color: #800080; text-decoration-color: #800080\">/</span> <span style=\"color: #008080; text-decoration-color: #008080; font-weight: bold\">2</span><span style=\"font-weight: bold\">))</span> + <span style=\"color: #008080; text-decoration-color: #008080; font-weight: bold\">1</span> ≈ <span style=\"color: #008080; text-decoration-color: #008080; font-weight: bold\">360</span> - <span style=\"font-weight: bold\">(</span><span style=\"color: #008080; text-decoration-color: #008080; font-weight: bold\">4</span> <span style=\"color: #800080; text-decoration-color: #800080\">/</span> <span style=\"color: #008080; text-decoration-color: #008080; font-weight: bold\">2</span><span style=\"font-weight: bold\">)</span> = <span style=\"color: #008080; text-decoration-color: #008080; font-weight: bold\">360</span> - <span style=\"font-weight: bold\">(</span><span style=\"color: #008080; text-decoration-color: #008080; font-weight: bold\">5</span>/<span style=\"color: #008080; text-decoration-color: #008080; font-weight: bold\">2</span><span style=\"font-weight: bold\">)</span> = <span style=\"color: #008080; text-decoration-color: #008080; font-weight: bold\">360</span> - <span style=\"font-weight: bold\">(</span><span style=\"color: #008080; text-decoration-color: #008080; font-weight: bold\">7.5</span> minutes<span style=\"font-weight: bold\">)</span>\n",
       "= <span style=\"color: #008080; text-decoration-color: #008080; font-weight: bold\">360</span> - <span style=\"font-weight: bold\">(</span><span style=\"color: #008080; text-decoration-color: #008080; font-weight: bold\">8</span>/<span style=\"color: #008080; text-decoration-color: #008080; font-weight: bold\">2</span><span style=\"font-weight: bold\">)</span> = <span style=\"color: #008080; text-decoration-color: #008080; font-weight: bold\">360</span> - <span style=\"font-weight: bold\">(</span><span style=\"color: #008080; text-decoration-color: #008080; font-weight: bold\">9.5</span> minutes<span style=\"font-weight: bold\">)</span>\n",
       "Chef B completes a third sandwich using only <span style=\"color: #008080; text-decoration-color: #008080; font-weight: bold\">1</span> second and then takes the lead:\n",
       "\n",
       "<span style=\"color: #008080; text-decoration-color: #008080; font-weight: bold\">20</span> + <span style=\"color: #008080; text-decoration-color: #008080; font-weight: bold\">8</span> ≈ <span style=\"color: #008080; text-decoration-color: #008080; font-weight: bold\">28</span> seconds\n",
       "<span style=\"font-weight: bold\">(</span><span style=\"color: #008080; text-decoration-color: #008080; font-weight: bold\">4</span> <span style=\"color: #800080; text-decoration-color: #800080\">/</span> <span style=\"color: #008080; text-decoration-color: #008080; font-weight: bold\">2</span><span style=\"font-weight: bold\">)</span> + <span style=\"color: #008080; text-decoration-color: #008080; font-weight: bold\">1</span> ≈ <span style=\"color: #008080; text-decoration-color: #008080; font-weight: bold\">7.5</span> minutes\n",
       "= <span style=\"color: #008080; text-decoration-color: #008080; font-weight: bold\">7.5</span> <span style=\"font-weight: bold\">(</span>chefs finish one sandwich but take the lead without finishing their first sandwich, thus taking an extra \n",
       "minute to finish their third sandwich<span style=\"font-weight: bold\">)</span>\n",
       "Chef B completes a fourth sandwich using only <span style=\"color: #008080; text-decoration-color: #008080; font-weight: bold\">1</span> second and then takes the lead:\n",
       "\n",
       "<span style=\"color: #008080; text-decoration-color: #008080; font-weight: bold\">20</span> + <span style=\"color: #008080; text-decoration-color: #008080; font-weight: bold\">8</span> ≈ <span style=\"color: #008080; text-decoration-color: #008080; font-weight: bold\">3</span>\n",
       "\n",
       "\n",
       "</pre>\n"
      ],
      "text/plain": [
       "To analyze the situation more closely, let's consider what happens when \u001b[1;36m8\u001b[0m chefs are allowed to make \u001b[1;36m4\u001b[0m sandwiches in\n",
       "\u001b[1;36m8\u001b[0m minutes. The first chef completes one sandwich using only \u001b[1;36m20\u001b[0m seconds and then takes the lead:\n",
       "\n",
       "\u001b[1;36m20\u001b[0m \u001b[35m/\u001b[0m \u001b[1;36m2\u001b[0m = \u001b[1;36m10\u001b[0m \u001b[1m(\u001b[0mChef B is not finished but takes the lead\u001b[1m)\u001b[0m\n",
       "\u001b[1m(\u001b[0m\u001b[1;36m360\u001b[0m - \u001b[1m(\u001b[0m\u001b[1;36m4\u001b[0m \u001b[35m/\u001b[0m \u001b[1;36m2\u001b[0m\u001b[1m)\u001b[0m\u001b[1m)\u001b[0m + \u001b[1;36m1\u001b[0m ≈ \u001b[1;36m360\u001b[0m - \u001b[1m(\u001b[0m\u001b[1;36m4\u001b[0m \u001b[35m/\u001b[0m \u001b[1;36m2\u001b[0m\u001b[1m)\u001b[0m = \u001b[1;36m360\u001b[0m - \u001b[1m(\u001b[0m\u001b[1;36m5\u001b[0m/\u001b[1;36m2\u001b[0m\u001b[1m)\u001b[0m = \u001b[1;36m360\u001b[0m - \u001b[1m(\u001b[0m\u001b[1;36m7.5\u001b[0m minutes\u001b[1m)\u001b[0m\n",
       "= \u001b[1;36m360\u001b[0m - \u001b[1m(\u001b[0m\u001b[1;36m8\u001b[0m/\u001b[1;36m2\u001b[0m\u001b[1m)\u001b[0m = \u001b[1;36m360\u001b[0m - \u001b[1m(\u001b[0m\u001b[1;36m9.5\u001b[0m minutes\u001b[1m)\u001b[0m\n",
       "Chef B completes a third sandwich using only \u001b[1;36m1\u001b[0m second and then takes the lead:\n",
       "\n",
       "\u001b[1;36m20\u001b[0m + \u001b[1;36m8\u001b[0m ≈ \u001b[1;36m28\u001b[0m seconds\n",
       "\u001b[1m(\u001b[0m\u001b[1;36m4\u001b[0m \u001b[35m/\u001b[0m \u001b[1;36m2\u001b[0m\u001b[1m)\u001b[0m + \u001b[1;36m1\u001b[0m ≈ \u001b[1;36m7.5\u001b[0m minutes\n",
       "= \u001b[1;36m7.5\u001b[0m \u001b[1m(\u001b[0mchefs finish one sandwich but take the lead without finishing their first sandwich, thus taking an extra \n",
       "minute to finish their third sandwich\u001b[1m)\u001b[0m\n",
       "Chef B completes a fourth sandwich using only \u001b[1;36m1\u001b[0m second and then takes the lead:\n",
       "\n",
       "\u001b[1;36m20\u001b[0m + \u001b[1;36m8\u001b[0m ≈ \u001b[1;36m3\u001b[0m\n",
       "\n",
       "\n"
      ]
     },
     "metadata": {},
     "output_type": "display_data"
    }
   ],
   "source": [
    "# Let's give chain-of-thought with reflection and revision a try:\n",
    "\n",
    "from beyond_chatting import inputs\n",
    "\n",
    "prompt_reflect = \"\"\"\n",
    "Please characterize the problem in abstract terms and identify potential pitfalls:\n",
    "\n",
    "{}\n",
    "\n",
    "In your answer, restate the problem before providing your reflection. Don't solve the problem yet.\n",
    "\"\"\"\n",
    "\n",
    "prompt_solve = \"\"\"\n",
    "Solve the following problem, taking into account the reflections provided:\n",
    "\n",
    "{}\n",
    "\n",
    "In your answer, restate the problem before providing your solution.\n",
    "\"\"\"\n",
    "\n",
    "prompt_correct = \"\"\"\n",
    "Please carefully assess and improve the solution provided:\n",
    "\n",
    "{}\n",
    "\"\"\"\n",
    "\n",
    "prompt_answer = \"\"\"\n",
    "Sum up the following solution:\n",
    "\n",
    "{}\n",
    "\n",
    "According to this reasoning, the final answer is, in short:\n",
    "\"\"\"\n",
    "\n",
    "answer = inputs(problem) | llm(prompt_reflect) | llm(prompt_solve) | llm(prompt_correct) | llm(prompt_answer)\n",
    "rich.print(answer)"
   ]
  },
  {
   "cell_type": "markdown",
   "metadata": {},
   "source": [
    "One issue with our current chain is that each step only sees the output of the previous one. Which means that earlier solutions, or even the problem itself, might not be available to the LLM when drafting the final answer.\n",
    "\n",
    "To check this, let's rewrite the chain and log intermediary steps:  "
   ]
  },
  {
   "cell_type": "code",
   "execution_count": 94,
   "metadata": {},
   "outputs": [
    {
     "data": {
      "text/html": [
       "<pre style=\"white-space:pre;overflow-x:auto;line-height:normal;font-family:Menlo,'DejaVu Sans Mono',consolas,'Courier New',monospace\">\n",
       "<span style=\"font-weight: bold\">Reflection:</span> The given problem is asking for a comparative analysis of two quantities: one requiring only <span style=\"color: #008080; text-decoration-color: #008080; font-weight: bold\">4</span> minutes \n",
       "and another requiring only <span style=\"color: #008080; text-decoration-color: #008080; font-weight: bold\">4</span> minutes with an equal number of cooks to produce those quantities simultaneously. The \n",
       "goal is to determine when it would indeed take <span style=\"color: #008080; text-decoration-color: #008080; font-weight: bold\">8</span> cook-in times to make <span style=\"color: #008080; text-decoration-color: #008080; font-weight: bold\">8</span> sandwiched sandwiches using the given \n",
       "solution set up by SmolLM for this problem, but it seems like there may be a flaw in the analysis - one cook might \n",
       "not need to wait at all time or have additional work involved. \n",
       "\n",
       "To improve upon the original problem:\n",
       "\n",
       "<span style=\"color: #008080; text-decoration-color: #008080; font-weight: bold\">1</span><span style=\"font-weight: bold\">)</span> The initial answer relies on an assumption of <span style=\"color: #008080; text-decoration-color: #008080; font-weight: bold\">4</span> minutes and requires <span style=\"color: #008080; text-decoration-color: #008080; font-weight: bold\">8</span> cooks to make <span style=\"color: #008080; text-decoration-color: #008080; font-weight: bold\">4</span> sandwiches, which is \n",
       "correct but needs more clarification regarding when it would take each chef a certain amount of time. \n",
       "\n",
       "<span style=\"color: #008080; text-decoration-color: #008080; font-weight: bold\">2</span><span style=\"font-weight: bold\">)</span> It seems like there are two different scenarios: if all cook-in times <span style=\"font-weight: bold\">(</span>i.e., <span style=\"color: #008080; text-decoration-color: #008080; font-weight: bold\">1</span> minute for each chef<span style=\"font-weight: bold\">)</span> can be used\n",
       "with equal speed; or if some chefs need to wait longer than others to produce the same quantity but require more \n",
       "work in order to do so, resulting in an overall time increase of <span style=\"color: #008080; text-decoration-color: #008080; font-weight: bold\">4</span> minutes per chef without additional work from \n",
       "other cooks. \n",
       "\n",
       "<span style=\"color: #008080; text-decoration-color: #008080; font-weight: bold\">3</span><span style=\"font-weight: bold\">)</span> This problem is essentially asking for a comparison between two actions <span style=\"font-weight: bold\">(</span><span style=\"color: #008080; text-decoration-color: #008080; font-weight: bold\">1</span>\n",
       "\n",
       "<span style=\"font-weight: bold\">Solution:</span> To improve upon the original problem, let's examine the given constraints more closely:\n",
       "\n",
       "<span style=\"color: #008080; text-decoration-color: #008080; font-weight: bold\">1</span><span style=\"font-weight: bold\">)</span> The initial assumption states that <span style=\"color: #008080; text-decoration-color: #008080; font-weight: bold\">4</span> minutes per chef are required to make <span style=\"color: #008080; text-decoration-color: #008080; font-weight: bold\">8</span> sandwiches using the given solution\n",
       "set up by SmolLM. This implies that a chef can produce one sandwich with <span style=\"color: #008080; text-decoration-color: #008080; font-weight: bold\">4</span> minutes of time provided they do not \n",
       "require additional work from other cooks, as each cook will need x seconds to prepare their own slice <span style=\"font-weight: bold\">(</span>i.e., <span style=\"color: #008080; text-decoration-color: #008080; font-weight: bold\">1</span> \n",
       "minute/cook-in<span style=\"font-weight: bold\">)</span>.\n",
       "\n",
       "<span style=\"color: #008080; text-decoration-color: #008080; font-weight: bold\">2</span><span style=\"font-weight: bold\">)</span> The problem requires two scenarios: when all chefs take equal speed and simultaneously produce a single \n",
       "sandwich, or when some chefs wait longer than others for the same amount of time without additional work from other\n",
       "cooks.\n",
       "\n",
       "<span style=\"color: #008080; text-decoration-color: #008080; font-weight: bold\">3</span><span style=\"font-weight: bold\">)</span> This is essentially asking for a comparison between two actions <span style=\"font-weight: bold\">(</span>one chef can make <span style=\"color: #008080; text-decoration-color: #008080; font-weight: bold\">8</span> sandwiches with <span style=\"color: #008080; text-decoration-color: #008080; font-weight: bold\">4</span> \n",
       "minutes/cook-in<span style=\"font-weight: bold\">)</span>, but requires extra explanation to understand why some chefs require more effort and less work \n",
       "compared to others, resulting in an overall increase of <span style=\"color: #008080; text-decoration-color: #008080; font-weight: bold\">4</span> minutes per chef without additional work from other \n",
       "cooks.\n",
       "\n",
       "A revised solution could be:\n",
       "\n",
       "For each chef who takes equal speed, it would take them x seconds to prepare their slice <span style=\"font-weight: bold\">(</span><span style=\"color: #008080; text-decoration-color: #008080; font-weight: bold\">1</span> minute/cook-in<span style=\"font-weight: bold\">)</span>. To \n",
       "make a sandwich with the given total time of \n",
       "\n",
       "<span style=\"font-weight: bold\">Correction:</span> Your suggested revision is correct and provides a clear explanation of how to approach this problem. \n",
       "Here's a revised response incorporating your suggestion:\n",
       "\n",
       "To improve upon the original problem, let's examine the given constraints more closely:\n",
       "\n",
       "<span style=\"color: #008080; text-decoration-color: #008080; font-weight: bold\">1</span><span style=\"font-weight: bold\">)</span> The initial assumption states that <span style=\"color: #008080; text-decoration-color: #008080; font-weight: bold\">4</span> minutes per chef are required to make <span style=\"color: #008080; text-decoration-color: #008080; font-weight: bold\">8</span> sandwiches using the given solution\n",
       "set up by SmolLM. This implies that a chef can produce one sandwich with <span style=\"color: #008080; text-decoration-color: #008080; font-weight: bold\">4</span> minutes of time provided they do not \n",
       "require additional work from other cooks, as each cook will need x seconds to prepare their own slice <span style=\"font-weight: bold\">(</span><span style=\"color: #008080; text-decoration-color: #008080; font-weight: bold\">1</span> \n",
       "minute/cook-in<span style=\"font-weight: bold\">)</span>.\n",
       "\n",
       "<span style=\"color: #008080; text-decoration-color: #008080; font-weight: bold\">2</span><span style=\"font-weight: bold\">)</span> The problem requires two scenarios: when all chefs take equal speed and simultaneously produce a single \n",
       "sandwich, or when some chefs wait longer than others for the same amount of time without additional work from other\n",
       "cooks.\n",
       "\n",
       "<span style=\"color: #008080; text-decoration-color: #008080; font-weight: bold\">3</span><span style=\"font-weight: bold\">)</span> This is essentially asking for a comparison between two actions <span style=\"font-weight: bold\">(</span>one chef can make <span style=\"color: #008080; text-decoration-color: #008080; font-weight: bold\">8</span> sandwiches with <span style=\"color: #008080; text-decoration-color: #008080; font-weight: bold\">4</span> \n",
       "minutes/cook-in<span style=\"font-weight: bold\">)</span>, but requires extra explanation to understand why some chefs require more effort and less work \n",
       "compared to others, resulting in an overall increase of <span style=\"color: #008080; text-decoration-color: #008080; font-weight: bold\">4</span> minutes per chef without additional work from other \n",
       "cooks.\n",
       "\n",
       "A revised solution could be:\n",
       "\n",
       "For each chef who takes equal speed, it would take them x seconds\n",
       "\n",
       "<span style=\"font-weight: bold\">Answer:</span> Your suggested revision provides a clear and concise explanation of how to approach the problem. Here's a \n",
       "revised response incorporating your suggestion:\n",
       "\n",
       "To improve upon the original solution, let's examine the given constraints more closely:\n",
       "\n",
       "<span style=\"color: #008080; text-decoration-color: #008080; font-weight: bold\">1</span><span style=\"font-weight: bold\">)</span> The initial assumption states that <span style=\"color: #008080; text-decoration-color: #008080; font-weight: bold\">4</span> minutes per chef are required to make <span style=\"color: #008080; text-decoration-color: #008080; font-weight: bold\">8</span> sandwiches using the given solution\n",
       "set up by SmolLM. This implies that a chef can produce one sandwich with <span style=\"color: #008080; text-decoration-color: #008080; font-weight: bold\">4</span> minutes of time provided they do not \n",
       "require additional work from other cooks, as each cook will need x seconds to prepare their own slice <span style=\"font-weight: bold\">(</span><span style=\"color: #008080; text-decoration-color: #008080; font-weight: bold\">1</span> \n",
       "minute/cook-in<span style=\"font-weight: bold\">)</span>.\n",
       "\n",
       "<span style=\"color: #008080; text-decoration-color: #008080; font-weight: bold\">2</span><span style=\"font-weight: bold\">)</span> The problem requires two scenarios: when all chefs take equal speed and simultaneously produce a single \n",
       "sandwich, or when some chefs wait longer than others for the same amount of time without additional work from other\n",
       "cooks.\n",
       "\n",
       "A revised solution could be:\n",
       "\n",
       "For each chef who takes equal speed, it would take them x seconds to prepare their own slice <span style=\"font-weight: bold\">(</span><span style=\"color: #008080; text-decoration-color: #008080; font-weight: bold\">1</span> minute/cook-in<span style=\"font-weight: bold\">)</span>\n",
       "\n",
       "<span style=\"color: #008080; text-decoration-color: #008080; font-weight: bold\">3</span><span style=\"font-weight: bold\">)</span> This is essentially asking for a comparison between two actions <span style=\"font-weight: bold\">(</span>one chef can make <span style=\"color: #008080; text-decoration-color: #008080; font-weight: bold\">8</span> sandwiches with <span style=\"color: #008080; text-decoration-color: #008080; font-weight: bold\">4</span> minutes \n",
       "of time provided they do not require additional work from other cooks<span style=\"font-weight: bold\">)</span>, but requires extra explanation to \n",
       "understand why some chefs require more effort and less work compared to\n",
       "\n",
       "</pre>\n"
      ],
      "text/plain": [
       "\n",
       "\u001b[1mReflection:\u001b[0m The given problem is asking for a comparative analysis of two quantities: one requiring only \u001b[1;36m4\u001b[0m minutes \n",
       "and another requiring only \u001b[1;36m4\u001b[0m minutes with an equal number of cooks to produce those quantities simultaneously. The \n",
       "goal is to determine when it would indeed take \u001b[1;36m8\u001b[0m cook-in times to make \u001b[1;36m8\u001b[0m sandwiched sandwiches using the given \n",
       "solution set up by SmolLM for this problem, but it seems like there may be a flaw in the analysis - one cook might \n",
       "not need to wait at all time or have additional work involved. \n",
       "\n",
       "To improve upon the original problem:\n",
       "\n",
       "\u001b[1;36m1\u001b[0m\u001b[1m)\u001b[0m The initial answer relies on an assumption of \u001b[1;36m4\u001b[0m minutes and requires \u001b[1;36m8\u001b[0m cooks to make \u001b[1;36m4\u001b[0m sandwiches, which is \n",
       "correct but needs more clarification regarding when it would take each chef a certain amount of time. \n",
       "\n",
       "\u001b[1;36m2\u001b[0m\u001b[1m)\u001b[0m It seems like there are two different scenarios: if all cook-in times \u001b[1m(\u001b[0mi.e., \u001b[1;36m1\u001b[0m minute for each chef\u001b[1m)\u001b[0m can be used\n",
       "with equal speed; or if some chefs need to wait longer than others to produce the same quantity but require more \n",
       "work in order to do so, resulting in an overall time increase of \u001b[1;36m4\u001b[0m minutes per chef without additional work from \n",
       "other cooks. \n",
       "\n",
       "\u001b[1;36m3\u001b[0m\u001b[1m)\u001b[0m This problem is essentially asking for a comparison between two actions \u001b[1m(\u001b[0m\u001b[1;36m1\u001b[0m\n",
       "\n",
       "\u001b[1mSolution:\u001b[0m To improve upon the original problem, let's examine the given constraints more closely:\n",
       "\n",
       "\u001b[1;36m1\u001b[0m\u001b[1m)\u001b[0m The initial assumption states that \u001b[1;36m4\u001b[0m minutes per chef are required to make \u001b[1;36m8\u001b[0m sandwiches using the given solution\n",
       "set up by SmolLM. This implies that a chef can produce one sandwich with \u001b[1;36m4\u001b[0m minutes of time provided they do not \n",
       "require additional work from other cooks, as each cook will need x seconds to prepare their own slice \u001b[1m(\u001b[0mi.e., \u001b[1;36m1\u001b[0m \n",
       "minute/cook-in\u001b[1m)\u001b[0m.\n",
       "\n",
       "\u001b[1;36m2\u001b[0m\u001b[1m)\u001b[0m The problem requires two scenarios: when all chefs take equal speed and simultaneously produce a single \n",
       "sandwich, or when some chefs wait longer than others for the same amount of time without additional work from other\n",
       "cooks.\n",
       "\n",
       "\u001b[1;36m3\u001b[0m\u001b[1m)\u001b[0m This is essentially asking for a comparison between two actions \u001b[1m(\u001b[0mone chef can make \u001b[1;36m8\u001b[0m sandwiches with \u001b[1;36m4\u001b[0m \n",
       "minutes/cook-in\u001b[1m)\u001b[0m, but requires extra explanation to understand why some chefs require more effort and less work \n",
       "compared to others, resulting in an overall increase of \u001b[1;36m4\u001b[0m minutes per chef without additional work from other \n",
       "cooks.\n",
       "\n",
       "A revised solution could be:\n",
       "\n",
       "For each chef who takes equal speed, it would take them x seconds to prepare their slice \u001b[1m(\u001b[0m\u001b[1;36m1\u001b[0m minute/cook-in\u001b[1m)\u001b[0m. To \n",
       "make a sandwich with the given total time of \n",
       "\n",
       "\u001b[1mCorrection:\u001b[0m Your suggested revision is correct and provides a clear explanation of how to approach this problem. \n",
       "Here's a revised response incorporating your suggestion:\n",
       "\n",
       "To improve upon the original problem, let's examine the given constraints more closely:\n",
       "\n",
       "\u001b[1;36m1\u001b[0m\u001b[1m)\u001b[0m The initial assumption states that \u001b[1;36m4\u001b[0m minutes per chef are required to make \u001b[1;36m8\u001b[0m sandwiches using the given solution\n",
       "set up by SmolLM. This implies that a chef can produce one sandwich with \u001b[1;36m4\u001b[0m minutes of time provided they do not \n",
       "require additional work from other cooks, as each cook will need x seconds to prepare their own slice \u001b[1m(\u001b[0m\u001b[1;36m1\u001b[0m \n",
       "minute/cook-in\u001b[1m)\u001b[0m.\n",
       "\n",
       "\u001b[1;36m2\u001b[0m\u001b[1m)\u001b[0m The problem requires two scenarios: when all chefs take equal speed and simultaneously produce a single \n",
       "sandwich, or when some chefs wait longer than others for the same amount of time without additional work from other\n",
       "cooks.\n",
       "\n",
       "\u001b[1;36m3\u001b[0m\u001b[1m)\u001b[0m This is essentially asking for a comparison between two actions \u001b[1m(\u001b[0mone chef can make \u001b[1;36m8\u001b[0m sandwiches with \u001b[1;36m4\u001b[0m \n",
       "minutes/cook-in\u001b[1m)\u001b[0m, but requires extra explanation to understand why some chefs require more effort and less work \n",
       "compared to others, resulting in an overall increase of \u001b[1;36m4\u001b[0m minutes per chef without additional work from other \n",
       "cooks.\n",
       "\n",
       "A revised solution could be:\n",
       "\n",
       "For each chef who takes equal speed, it would take them x seconds\n",
       "\n",
       "\u001b[1mAnswer:\u001b[0m Your suggested revision provides a clear and concise explanation of how to approach the problem. Here's a \n",
       "revised response incorporating your suggestion:\n",
       "\n",
       "To improve upon the original solution, let's examine the given constraints more closely:\n",
       "\n",
       "\u001b[1;36m1\u001b[0m\u001b[1m)\u001b[0m The initial assumption states that \u001b[1;36m4\u001b[0m minutes per chef are required to make \u001b[1;36m8\u001b[0m sandwiches using the given solution\n",
       "set up by SmolLM. This implies that a chef can produce one sandwich with \u001b[1;36m4\u001b[0m minutes of time provided they do not \n",
       "require additional work from other cooks, as each cook will need x seconds to prepare their own slice \u001b[1m(\u001b[0m\u001b[1;36m1\u001b[0m \n",
       "minute/cook-in\u001b[1m)\u001b[0m.\n",
       "\n",
       "\u001b[1;36m2\u001b[0m\u001b[1m)\u001b[0m The problem requires two scenarios: when all chefs take equal speed and simultaneously produce a single \n",
       "sandwich, or when some chefs wait longer than others for the same amount of time without additional work from other\n",
       "cooks.\n",
       "\n",
       "A revised solution could be:\n",
       "\n",
       "For each chef who takes equal speed, it would take them x seconds to prepare their own slice \u001b[1m(\u001b[0m\u001b[1;36m1\u001b[0m minute/cook-in\u001b[1m)\u001b[0m\n",
       "\n",
       "\u001b[1;36m3\u001b[0m\u001b[1m)\u001b[0m This is essentially asking for a comparison between two actions \u001b[1m(\u001b[0mone chef can make \u001b[1;36m8\u001b[0m sandwiches with \u001b[1;36m4\u001b[0m minutes \n",
       "of time provided they do not require additional work from other cooks\u001b[1m)\u001b[0m, but requires extra explanation to \n",
       "understand why some chefs require more effort and less work compared to\n",
       "\n"
      ]
     },
     "metadata": {},
     "output_type": "display_data"
    }
   ],
   "source": [
    "\n",
    "reflection = llm(prompt_reflect.format(problem)) \n",
    "solution = llm(prompt_solve.format(reflection))\n",
    "correction = llm(prompt_correct.format(solution))\n",
    "answer = llm(prompt_answer.format(correction))\n",
    "\n",
    "rich.print(f\"\"\"\n",
    "[bold]Reflection:[/bold] {reflection}\n",
    "\n",
    "[bold]Solution:[/bold] {solution}\n",
    "\n",
    "[bold]Correction:[/bold] {correction}\n",
    "\n",
    "[bold]Answer:[/bold] {answer}\n",
    "\"\"\")"
   ]
  },
  {
   "cell_type": "markdown",
   "metadata": {},
   "source": [
    "Relevant information about the original problem is lost during the workflow. We can avoid that by using multiple placeholders per prompt."
   ]
  },
  {
   "cell_type": "code",
   "execution_count": 95,
   "metadata": {},
   "outputs": [
    {
     "data": {
      "text/html": [
       "<pre style=\"white-space:pre;overflow-x:auto;line-height:normal;font-family:Menlo,'DejaVu Sans Mono',consolas,'Courier New',monospace\">\n",
       "<span style=\"font-weight: bold\">Reflection:</span> To understand a specific problem and identify potential pitfalls, let's break down each step of the \n",
       "reasoning process:\n",
       "\n",
       "<span style=\"color: #008080; text-decoration-color: #008080; font-weight: bold\">1</span>. Identify key elements: \n",
       "   - The initial question asks for an algorithm to compute <span style=\"color: #008000; text-decoration-color: #008000\">\"how long would it take 8 cooks to make 8 sandwiches.\"</span>\n",
       "   - This involves analyzing the given constraints <span style=\"font-weight: bold\">(</span>number of slices per cook<span style=\"font-weight: bold\">)</span>, number of slices required, and \n",
       "total time taken by all cooks in a single cooking session.\n",
       "\n",
       "<span style=\"color: #008080; text-decoration-color: #008080; font-weight: bold\">2</span>. Analyze possible scenarios: \n",
       "   - There are two possible approaches to compute <span style=\"color: #008000; text-decoration-color: #008000\">\"how long would it take 4 cooks to make 4 sandwiches.\"</span>\n",
       "   - Each approach can be represented as an algorithm or sequence of steps that require processing the given inputs\n",
       "<span style=\"font-weight: bold\">(</span>slices, number of slices per cook<span style=\"font-weight: bold\">)</span>.\n",
       "\n",
       "<span style=\"color: #008080; text-decoration-color: #008080; font-weight: bold\">3</span>. Evaluate potential pitfalls and assumptions: \n",
       "   - A fundamental assumption is that each step requires a constant amount of time for all parts to process; \n",
       "however, this assumption may not hold in all cases. For example, some algorithms might avoid certain operations or \n",
       "require additional input data beyond what's available upfront <span style=\"font-weight: bold\">(</span>e.g., more slices required than are already \n",
       "processed<span style=\"font-weight: bold\">)</span>.\n",
       "\n",
       "<span style=\"color: #008080; text-decoration-color: #008080; font-weight: bold\">4</span>. Draw conclusions based on the evaluation: \n",
       "   - Based on the analysis and potential pitfalls identified earlier, it is challenging to determine whether it \n",
       "would\n",
       "\n",
       "<span style=\"font-weight: bold\">Solution:</span> To solve this problem, we will analyze each step of the reasoning process: \n",
       "\n",
       "<span style=\"color: #008080; text-decoration-color: #008080; font-weight: bold\">1</span>. Identify key elements:\n",
       "   - The initial question asks for an algorithm to compute <span style=\"color: #008000; text-decoration-color: #008000\">\"how long would it take 4 cooks to make 4 sandwiches.\"</span>\n",
       "   - This involves analyzing the given constraints <span style=\"font-weight: bold\">(</span>number of slices per cook<span style=\"font-weight: bold\">)</span>, number of slices required, and \n",
       "total time taken by all cooks in a single cooking session.\n",
       "\n",
       "<span style=\"color: #008080; text-decoration-color: #008080; font-weight: bold\">2</span>. Analyze possible scenarios: \n",
       "   - There are two possible approaches to compute <span style=\"color: #008000; text-decoration-color: #008000\">\"how long would it take 4 cooks to make 4 sandwiches.\"</span>\n",
       "   - Each approach can be represented as an algorithm or sequence of steps that require processing the given inputs\n",
       "<span style=\"font-weight: bold\">(</span>slices, number of slices per cook<span style=\"font-weight: bold\">)</span>. \n",
       "\n",
       "<span style=\"color: #008080; text-decoration-color: #008080; font-weight: bold\">3</span>. Evaluate potential pitfalls and assumptions:\n",
       "   - A fundamental assumption is that each step requires a constant amount of time for all parts to process; \n",
       "however, this assumption may not hold in all cases. For example, some algorithms might avoid certain operations or \n",
       "require additional input data beyond what's available upfront <span style=\"font-weight: bold\">(</span>e.g., more slices required than are already \n",
       "processed<span style=\"font-weight: bold\">)</span>.\n",
       "\n",
       "<span style=\"color: #008080; text-decoration-color: #008080; font-weight: bold\">4</span>. Draw conclusions based on the evaluation:\n",
       "   - Based on the analysis and potential pitfalls identified earlier, it is challenging to determine whether it \n",
       "would\n",
       "\n",
       "In your answer, you provide a\n",
       "\n",
       "<span style=\"font-weight: bold\">Correction:</span> Based on the given problem, there are two possible approaches to compute <span style=\"color: #008000; text-decoration-color: #008000\">\"how long it would take 8 </span>\n",
       "<span style=\"color: #008000; text-decoration-color: #008000\">cooks to make 8 sandwiches.\"</span> These approaches involve analyzing the constraints provided.\n",
       "\n",
       "<span style=\"color: #008080; text-decoration-color: #008080; font-weight: bold\">1</span>. Approach A:\n",
       "   - This approach involves processing each slice of bread <span style=\"font-weight: bold\">(</span>number of slices per cook<span style=\"font-weight: bold\">)</span> concurrently with the other \n",
       "three ovens <span style=\"font-weight: bold\">(</span>four cooks<span style=\"font-weight: bold\">)</span>. Each slice requires a fixed amount of time, and all five slices are processed \n",
       "simultaneously by all four ovens before being combined into one sandwich. This algorithm can be represented as an \n",
       "algorithm that has been validated for its correctness based on the given constraints.\n",
       "\n",
       "<span style=\"color: #008080; text-decoration-color: #008080; font-weight: bold\">2</span>. Approach B:\n",
       "   - This approach involves processing each slice individually with the other three ovens <span style=\"font-weight: bold\">(</span>four cooks<span style=\"font-weight: bold\">)</span>. Each slice \n",
       "requires a different amount of time, and all four slices are processed sequentially before being combined into one \n",
       "sandwich by all ovens to produce the final product. This algorithm can be represented as an algorithm that has been\n",
       "validated for its correctness based on the given constraints.\n",
       "\n",
       "<span style=\"font-weight: bold\">Answer:</span> Based on the provided solutions, it would take <span style=\"color: #008080; text-decoration-color: #008080; font-weight: bold\">8</span> cooks **<span style=\"color: #008080; text-decoration-color: #008080; font-weight: bold\">14</span> minutes** <span style=\"font-weight: bold\">(</span>approach A<span style=\"font-weight: bold\">)</span> **<span style=\"color: #008080; text-decoration-color: #008080; font-weight: bold\">20</span> minutes** <span style=\"font-weight: bold\">(</span>approach\n",
       "B<span style=\"font-weight: bold\">)</span>** for the total number of sandwiches produced to exceed <span style=\"color: #008080; text-decoration-color: #008080; font-weight: bold\">8</span>. Therefore, <span style=\"color: #008080; text-decoration-color: #008080; font-weight: bold\">8</span> chefs will be required to make <span style=\"color: #008080; text-decoration-color: #008080; font-weight: bold\">8</span> \n",
       "different types of meals within a limited timeframe.**\n",
       "\n",
       "</pre>\n"
      ],
      "text/plain": [
       "\n",
       "\u001b[1mReflection:\u001b[0m To understand a specific problem and identify potential pitfalls, let's break down each step of the \n",
       "reasoning process:\n",
       "\n",
       "\u001b[1;36m1\u001b[0m. Identify key elements: \n",
       "   - The initial question asks for an algorithm to compute \u001b[32m\"how long would it take 8 cooks to make 8 sandwiches.\"\u001b[0m\n",
       "   - This involves analyzing the given constraints \u001b[1m(\u001b[0mnumber of slices per cook\u001b[1m)\u001b[0m, number of slices required, and \n",
       "total time taken by all cooks in a single cooking session.\n",
       "\n",
       "\u001b[1;36m2\u001b[0m. Analyze possible scenarios: \n",
       "   - There are two possible approaches to compute \u001b[32m\"how long would it take 4 cooks to make 4 sandwiches.\"\u001b[0m\n",
       "   - Each approach can be represented as an algorithm or sequence of steps that require processing the given inputs\n",
       "\u001b[1m(\u001b[0mslices, number of slices per cook\u001b[1m)\u001b[0m.\n",
       "\n",
       "\u001b[1;36m3\u001b[0m. Evaluate potential pitfalls and assumptions: \n",
       "   - A fundamental assumption is that each step requires a constant amount of time for all parts to process; \n",
       "however, this assumption may not hold in all cases. For example, some algorithms might avoid certain operations or \n",
       "require additional input data beyond what's available upfront \u001b[1m(\u001b[0me.g., more slices required than are already \n",
       "processed\u001b[1m)\u001b[0m.\n",
       "\n",
       "\u001b[1;36m4\u001b[0m. Draw conclusions based on the evaluation: \n",
       "   - Based on the analysis and potential pitfalls identified earlier, it is challenging to determine whether it \n",
       "would\n",
       "\n",
       "\u001b[1mSolution:\u001b[0m To solve this problem, we will analyze each step of the reasoning process: \n",
       "\n",
       "\u001b[1;36m1\u001b[0m. Identify key elements:\n",
       "   - The initial question asks for an algorithm to compute \u001b[32m\"how long would it take 4 cooks to make 4 sandwiches.\"\u001b[0m\n",
       "   - This involves analyzing the given constraints \u001b[1m(\u001b[0mnumber of slices per cook\u001b[1m)\u001b[0m, number of slices required, and \n",
       "total time taken by all cooks in a single cooking session.\n",
       "\n",
       "\u001b[1;36m2\u001b[0m. Analyze possible scenarios: \n",
       "   - There are two possible approaches to compute \u001b[32m\"how long would it take 4 cooks to make 4 sandwiches.\"\u001b[0m\n",
       "   - Each approach can be represented as an algorithm or sequence of steps that require processing the given inputs\n",
       "\u001b[1m(\u001b[0mslices, number of slices per cook\u001b[1m)\u001b[0m. \n",
       "\n",
       "\u001b[1;36m3\u001b[0m. Evaluate potential pitfalls and assumptions:\n",
       "   - A fundamental assumption is that each step requires a constant amount of time for all parts to process; \n",
       "however, this assumption may not hold in all cases. For example, some algorithms might avoid certain operations or \n",
       "require additional input data beyond what's available upfront \u001b[1m(\u001b[0me.g., more slices required than are already \n",
       "processed\u001b[1m)\u001b[0m.\n",
       "\n",
       "\u001b[1;36m4\u001b[0m. Draw conclusions based on the evaluation:\n",
       "   - Based on the analysis and potential pitfalls identified earlier, it is challenging to determine whether it \n",
       "would\n",
       "\n",
       "In your answer, you provide a\n",
       "\n",
       "\u001b[1mCorrection:\u001b[0m Based on the given problem, there are two possible approaches to compute \u001b[32m\"how long it would take 8 \u001b[0m\n",
       "\u001b[32mcooks to make 8 sandwiches.\"\u001b[0m These approaches involve analyzing the constraints provided.\n",
       "\n",
       "\u001b[1;36m1\u001b[0m. Approach A:\n",
       "   - This approach involves processing each slice of bread \u001b[1m(\u001b[0mnumber of slices per cook\u001b[1m)\u001b[0m concurrently with the other \n",
       "three ovens \u001b[1m(\u001b[0mfour cooks\u001b[1m)\u001b[0m. Each slice requires a fixed amount of time, and all five slices are processed \n",
       "simultaneously by all four ovens before being combined into one sandwich. This algorithm can be represented as an \n",
       "algorithm that has been validated for its correctness based on the given constraints.\n",
       "\n",
       "\u001b[1;36m2\u001b[0m. Approach B:\n",
       "   - This approach involves processing each slice individually with the other three ovens \u001b[1m(\u001b[0mfour cooks\u001b[1m)\u001b[0m. Each slice \n",
       "requires a different amount of time, and all four slices are processed sequentially before being combined into one \n",
       "sandwich by all ovens to produce the final product. This algorithm can be represented as an algorithm that has been\n",
       "validated for its correctness based on the given constraints.\n",
       "\n",
       "\u001b[1mAnswer:\u001b[0m Based on the provided solutions, it would take \u001b[1;36m8\u001b[0m cooks **\u001b[1;36m14\u001b[0m minutes** \u001b[1m(\u001b[0mapproach A\u001b[1m)\u001b[0m **\u001b[1;36m20\u001b[0m minutes** \u001b[1m(\u001b[0mapproach\n",
       "B\u001b[1m)\u001b[0m** for the total number of sandwiches produced to exceed \u001b[1;36m8\u001b[0m. Therefore, \u001b[1;36m8\u001b[0m chefs will be required to make \u001b[1;36m8\u001b[0m \n",
       "different types of meals within a limited timeframe.**\n",
       "\n"
      ]
     },
     "metadata": {},
     "output_type": "display_data"
    }
   ],
   "source": [
    "# INPUTS\n",
    "\n",
    "problem = \"If it takes 4 cooks 4 minutes to make 4 sandwichs, how long would it take 8 cooks to make 8 sandwichs?\"\n",
    "\n",
    "# PROMPTS\n",
    "\n",
    "prompt_reflect = \"\"\"\n",
    "Please characterize the problem in abstract terms and identify potential pitfalls:\n",
    "\n",
    "{problem}\n",
    "\n",
    "Provide your reflection in the answer. Don't solve the problem yet.\n",
    "\"\"\"\n",
    "\n",
    "prompt_solve = \"\"\"\n",
    "Solve the following problem, taking into account the reflections provided:\n",
    "\n",
    "Problem: {problem}\n",
    "\n",
    "Reflection: {reflection}\n",
    "\n",
    "In your answer, provide your clear solution.\n",
    "\"\"\"\n",
    "\n",
    "prompt_correct = \"\"\"\n",
    "Please carefully assess and improve the solution to the given problem:\n",
    "\n",
    "Problem: {problem}\n",
    "\n",
    "Solution: {solution}\n",
    "\"\"\"\n",
    "\n",
    "prompt_answer = \"\"\"\n",
    "Extract the answer from the following solution:\n",
    "\n",
    "Problem: {problem}\n",
    "\n",
    "Solution: {correction}\n",
    "\n",
    "According to this solution, the correct answer to the problem is, in short:\n",
    "\"\"\"\n",
    "\n",
    "# CHAIN\n",
    "\n",
    "reflection = llm(prompt_reflect.format(problem=problem)) \n",
    "#                ^^^^^replacing placeholders here^^^^^^ \n",
    "#                     before passing prompt to LLM\n",
    "solution = llm(prompt_solve.format(problem=problem, reflection=reflection))\n",
    "correction = llm(prompt_correct.format(problem=problem, solution=solution))\n",
    "answer = llm(prompt_answer.format(problem=problem, correction=correction))\n",
    "\n",
    "# OUTPUT\n",
    "\n",
    "rich.print(f\"\"\"\n",
    "[bold]Reflection:[/bold] {reflection}\n",
    "\n",
    "[bold]Solution:[/bold] {solution}\n",
    "\n",
    "[bold]Correction:[/bold] {correction}\n",
    "\n",
    "[bold]Answer:[/bold] {answer}\n",
    "\"\"\")"
   ]
  },
  {
   "cell_type": "code",
   "execution_count": 96,
   "metadata": {},
   "outputs": [
    {
     "data": {
      "text/html": [
       "<pre style=\"white-space:pre;overflow-x:auto;line-height:normal;font-family:Menlo,'DejaVu Sans Mono',consolas,'Courier New',monospace\">\n",
       "<span style=\"font-weight: bold\">Reflection:</span> Here's an abstract for this prompt:\n",
       "\n",
       "Taxation can be viewed as a complex phenomenon involving various components, including personal income taxes and \n",
       "inheritance taxes. One possible categorization is between tax avoidance based on income versus those based on \n",
       "inherited wealth. This approach focuses on individuals who seek to maximize their returns while minimizing the \n",
       "burden of taxes on their wealth or assets. In this context, taxation may not always be in line with expected income\n",
       "levels but can still have negative consequences if left unchecked due to a lack of transparency around tax evasion \n",
       "and misuse of assets by those seeking to avoid paying taxes.\n",
       "\n",
       "In terms of potential pitfalls, it's essential to acknowledge that taxing inheritance is complicated and complex \n",
       "because there are various components involved. However, in this scenario, income might not necessarily be the \n",
       "primary driver behind taxation as revenue streams come from both personal savings and investments. Instead, tax \n",
       "avoidance can occur through transactions between individuals who are able to meet minimum incomes while also paying\n",
       "taxes on their wealth or assets. This type of tax avoidance can lead to increased taxes without being directly tied\n",
       "to individual income levels.\n",
       "\n",
       "Moreover, it's crucial for the implementation of taxation policies that take into account potential loopholes and \n",
       "exceptions in favor of inherited wealth. For instance, there are various means-tested incentives\n",
       "\n",
       "<span style=\"font-weight: bold\">Solution:</span> Based on the given abstract:\n",
       "\n",
       "Taxation can be viewed as a complex phenomenon involving various components including personal income taxes and \n",
       "inheritance tax. One possible categorization is between taxation based on income versus those with inherited wealth\n",
       "or assets that may not meet income thresholds while also paying tax deductions for these assets but without being \n",
       "directly tied to individual income levels. Tax avoidance can occur through transactions such as estate planning, \n",
       "investment management, and charitable donations where individuals seek to avoid paying taxes by purchasing a \n",
       "property in the name of others who are able to pay them.\n",
       "\n",
       "It is essential that taxation policies acknowledge potential loopholes and exceptions for those with inherited \n",
       "wealth or assets without meeting income thresholds while also providing means-tested incentives such as tax \n",
       "deductions for investments but not directly tied to individual income levels. This approach ensures fairness, \n",
       "transparency, and accountability in taxation policy decisions when taxes are levied on individuals who have \n",
       "personal savings that meet income requirements while also paying taxes through a range of sources including \n",
       "investments.\n",
       "\n",
       "Furthermore, it is crucial for policymakers to prioritize the implementation of policies that account for potential\n",
       "loopholes and exceptions for those with inherited wealth or assets without meeting income thresholds while also \n",
       "providing means-tested incentives such as tax deductions for investments but not directly tied to individual income\n",
       "levels. This approach ensures fairness,\n",
       "\n",
       "<span style=\"font-weight: bold\">Correction:</span> Based on the given abstract:\n",
       "\n",
       "Taxation can be viewed as a complex phenomenon involving various components including personal income taxes and \n",
       "inheritance tax. One possible categorization is between taxation based on income versus those with inherited wealth\n",
       "or assets that may not meet income thresholds while also paying tax deductions for these assets but without being \n",
       "directly tied to individual income levels. Tax avoidance can occur through transactions such as estate planning, \n",
       "investment management, and charitable donations where individuals seek to avoid paying taxes by purchasing a \n",
       "property in the name of others who are able to pay them.\n",
       "\n",
       "Taxation policies acknowledge potential loopholes and exceptions for those with inherited wealth or assets without \n",
       "meeting income thresholds while also providing means-tested incentives such as tax deductions for investments but \n",
       "not directly tied to individual income levels. This approach ensures fairness, transparency, and accountability in \n",
       "taxation policy decisions when taxes are levied on individuals who have personal savings that meet income \n",
       "requirements but also pay taxes through a range of sources including investments.\n",
       "\n",
       "<span style=\"font-weight: bold\">Answer:</span> No, based solely upon the given abstract, there doesn't seem to be any direct relationship between tax \n",
       "rates and individual income levels that directly relate to inheritance or inherited wealth without meeting income \n",
       "thresholds. The system does not consider individuals with personal savings who meet certain conditions but pay \n",
       "taxes through various sources like investments. Therefore, no answer can fit this problem solution as it lacks a \n",
       "clear connection between the types of contributions being made <span style=\"font-weight: bold\">(</span>inheritance and inherited assets<span style=\"font-weight: bold\">)</span> and tax rates at \n",
       "higher or lower levels.\n",
       "\n",
       "</pre>\n"
      ],
      "text/plain": [
       "\n",
       "\u001b[1mReflection:\u001b[0m Here's an abstract for this prompt:\n",
       "\n",
       "Taxation can be viewed as a complex phenomenon involving various components, including personal income taxes and \n",
       "inheritance taxes. One possible categorization is between tax avoidance based on income versus those based on \n",
       "inherited wealth. This approach focuses on individuals who seek to maximize their returns while minimizing the \n",
       "burden of taxes on their wealth or assets. In this context, taxation may not always be in line with expected income\n",
       "levels but can still have negative consequences if left unchecked due to a lack of transparency around tax evasion \n",
       "and misuse of assets by those seeking to avoid paying taxes.\n",
       "\n",
       "In terms of potential pitfalls, it's essential to acknowledge that taxing inheritance is complicated and complex \n",
       "because there are various components involved. However, in this scenario, income might not necessarily be the \n",
       "primary driver behind taxation as revenue streams come from both personal savings and investments. Instead, tax \n",
       "avoidance can occur through transactions between individuals who are able to meet minimum incomes while also paying\n",
       "taxes on their wealth or assets. This type of tax avoidance can lead to increased taxes without being directly tied\n",
       "to individual income levels.\n",
       "\n",
       "Moreover, it's crucial for the implementation of taxation policies that take into account potential loopholes and \n",
       "exceptions in favor of inherited wealth. For instance, there are various means-tested incentives\n",
       "\n",
       "\u001b[1mSolution:\u001b[0m Based on the given abstract:\n",
       "\n",
       "Taxation can be viewed as a complex phenomenon involving various components including personal income taxes and \n",
       "inheritance tax. One possible categorization is between taxation based on income versus those with inherited wealth\n",
       "or assets that may not meet income thresholds while also paying tax deductions for these assets but without being \n",
       "directly tied to individual income levels. Tax avoidance can occur through transactions such as estate planning, \n",
       "investment management, and charitable donations where individuals seek to avoid paying taxes by purchasing a \n",
       "property in the name of others who are able to pay them.\n",
       "\n",
       "It is essential that taxation policies acknowledge potential loopholes and exceptions for those with inherited \n",
       "wealth or assets without meeting income thresholds while also providing means-tested incentives such as tax \n",
       "deductions for investments but not directly tied to individual income levels. This approach ensures fairness, \n",
       "transparency, and accountability in taxation policy decisions when taxes are levied on individuals who have \n",
       "personal savings that meet income requirements while also paying taxes through a range of sources including \n",
       "investments.\n",
       "\n",
       "Furthermore, it is crucial for policymakers to prioritize the implementation of policies that account for potential\n",
       "loopholes and exceptions for those with inherited wealth or assets without meeting income thresholds while also \n",
       "providing means-tested incentives such as tax deductions for investments but not directly tied to individual income\n",
       "levels. This approach ensures fairness,\n",
       "\n",
       "\u001b[1mCorrection:\u001b[0m Based on the given abstract:\n",
       "\n",
       "Taxation can be viewed as a complex phenomenon involving various components including personal income taxes and \n",
       "inheritance tax. One possible categorization is between taxation based on income versus those with inherited wealth\n",
       "or assets that may not meet income thresholds while also paying tax deductions for these assets but without being \n",
       "directly tied to individual income levels. Tax avoidance can occur through transactions such as estate planning, \n",
       "investment management, and charitable donations where individuals seek to avoid paying taxes by purchasing a \n",
       "property in the name of others who are able to pay them.\n",
       "\n",
       "Taxation policies acknowledge potential loopholes and exceptions for those with inherited wealth or assets without \n",
       "meeting income thresholds while also providing means-tested incentives such as tax deductions for investments but \n",
       "not directly tied to individual income levels. This approach ensures fairness, transparency, and accountability in \n",
       "taxation policy decisions when taxes are levied on individuals who have personal savings that meet income \n",
       "requirements but also pay taxes through a range of sources including investments.\n",
       "\n",
       "\u001b[1mAnswer:\u001b[0m No, based solely upon the given abstract, there doesn't seem to be any direct relationship between tax \n",
       "rates and individual income levels that directly relate to inheritance or inherited wealth without meeting income \n",
       "thresholds. The system does not consider individuals with personal savings who meet certain conditions but pay \n",
       "taxes through various sources like investments. Therefore, no answer can fit this problem solution as it lacks a \n",
       "clear connection between the types of contributions being made \u001b[1m(\u001b[0minheritance and inherited assets\u001b[1m)\u001b[0m and tax rates at \n",
       "higher or lower levels.\n",
       "\n"
      ]
     },
     "metadata": {},
     "output_type": "display_data"
    }
   ],
   "source": [
    "# Try this out with another problem!\n",
    "\n",
    "problem = \"Is it just to tax inheritance at a higher rate than income?\"\n",
    "\n",
    "# CHAIN\n",
    "\n",
    "reflection = llm(prompt_reflect.format(problem=problem)) \n",
    "solution = llm(prompt_solve.format(problem=problem, reflection=reflection))\n",
    "correction = llm(prompt_correct.format(problem=problem, solution=solution))\n",
    "answer = llm(prompt_answer.format(problem=problem, correction=correction))\n",
    "\n",
    "# OUTPUT\n",
    "\n",
    "rich.print(f\"\"\"\n",
    "[bold]Reflection:[/bold] {reflection}\n",
    "\n",
    "[bold]Solution:[/bold] {solution}\n",
    "\n",
    "[bold]Correction:[/bold] {correction}\n",
    "\n",
    "[bold]Answer:[/bold] {answer}\n",
    "\"\"\")\n"
   ]
  },
  {
   "cell_type": "markdown",
   "metadata": {},
   "source": [
    "## Keeping Chat History in the LLM's Context"
   ]
  },
  {
   "cell_type": "code",
   "execution_count": 97,
   "metadata": {},
   "outputs": [
    {
     "data": {
      "text/html": [
       "<pre style=\"white-space:pre;overflow-x:auto;line-height:normal;font-family:Menlo,'DejaVu Sans Mono',consolas,'Courier New',monospace\">🏁 Staring new 💬 chat session:\n",
       "</pre>\n"
      ],
      "text/plain": [
       "🏁 Staring new 💬 chat session:\n"
      ]
     },
     "metadata": {},
     "output_type": "display_data"
    },
    {
     "data": {
      "text/html": [
       "<pre style=\"white-space:pre;overflow-x:auto;line-height:normal;font-family:Menlo,'DejaVu Sans Mono',consolas,'Courier New',monospace\"><span style=\"font-weight: bold\">👤 User:</span> What's the name of biggest city in California?\n",
       "</pre>\n"
      ],
      "text/plain": [
       "\u001b[1m👤 User:\u001b[0m What's the name of biggest city in California?\n"
      ]
     },
     "metadata": {},
     "output_type": "display_data"
    },
    {
     "data": {
      "text/html": [
       "<pre style=\"white-space:pre;overflow-x:auto;line-height:normal;font-family:Menlo,'DejaVu Sans Mono',consolas,'Courier New',monospace\"><span style=\"font-weight: bold\">🤖 Assistant:</span> The biggest city in California is San Francisco.\n",
       "</pre>\n"
      ],
      "text/plain": [
       "\u001b[1m🤖 Assistant:\u001b[0m The biggest city in California is San Francisco.\n"
      ]
     },
     "metadata": {},
     "output_type": "display_data"
    },
    {
     "data": {
      "text/html": [
       "<pre style=\"white-space:pre;overflow-x:auto;line-height:normal;font-family:Menlo,'DejaVu Sans Mono',consolas,'Courier New',monospace\"><span style=\"font-weight: bold\">👤 User:</span> What is the most popular baseball club in <span style=\"font-weight: bold\">[</span><span style=\"color: #808000; text-decoration-color: #808000\">...</span><span style=\"font-weight: bold\">]</span>\n",
       "</pre>\n"
      ],
      "text/plain": [
       "\u001b[1m👤 User:\u001b[0m What is the most popular baseball club in \u001b[1m[\u001b[0m\u001b[33m...\u001b[0m\u001b[1m]\u001b[0m\n"
      ]
     },
     "metadata": {},
     "output_type": "display_data"
    },
    {
     "data": {
      "text/html": [
       "<pre style=\"white-space:pre;overflow-x:auto;line-height:normal;font-family:Menlo,'DejaVu Sans Mono',consolas,'Courier New',monospace\"><span style=\"font-weight: bold\">🤖 Assistant:</span> San Francisco is known for being a <span style=\"font-weight: bold\">[</span><span style=\"color: #808000; text-decoration-color: #808000\">...</span><span style=\"font-weight: bold\">]</span>\n",
       "</pre>\n"
      ],
      "text/plain": [
       "\u001b[1m🤖 Assistant:\u001b[0m San Francisco is known for being a \u001b[1m[\u001b[0m\u001b[33m...\u001b[0m\u001b[1m]\u001b[0m\n"
      ]
     },
     "metadata": {},
     "output_type": "display_data"
    },
    {
     "data": {
      "text/html": [
       "<pre style=\"white-space:pre;overflow-x:auto;line-height:normal;font-family:Menlo,'DejaVu Sans Mono',consolas,'Courier New',monospace\">San Francisco is known for being a powerhouse baseball club due to its top-ranked batting leaders and one of the \n",
       "most successful professional sports franchises globally, with multiple MLB titles under their belt <span style=\"font-weight: bold\">(</span>including BA \n",
       "League World Series Championship<span style=\"font-weight: bold\">)</span>.\n",
       "</pre>\n"
      ],
      "text/plain": [
       "San Francisco is known for being a powerhouse baseball club due to its top-ranked batting leaders and one of the \n",
       "most successful professional sports franchises globally, with multiple MLB titles under their belt \u001b[1m(\u001b[0mincluding BA \n",
       "League World Series Championship\u001b[1m)\u001b[0m.\n"
      ]
     },
     "metadata": {},
     "output_type": "display_data"
    }
   ],
   "source": [
    "# A bare LLM can only work with what it sees in its current context.\n",
    "# Chat models may have, besides the current prompt (instruction), the entire chat history in their context.\n",
    "\n",
    "with llm.session() as chat:\n",
    "    chat.ask(\"What's the name of biggest city in California? \")\n",
    "    answer = chat.ask(\"What is the most popular baseball club in that city'?\")\n",
    "    rich.print(answer)"
   ]
  },
  {
   "cell_type": "code",
   "execution_count": 98,
   "metadata": {},
   "outputs": [
    {
     "data": {
      "text/html": [
       "<pre style=\"white-space:pre;overflow-x:auto;line-height:normal;font-family:Menlo,'DejaVu Sans Mono',consolas,'Courier New',monospace\">🏁 Staring new 💬 chat session:\n",
       "</pre>\n"
      ],
      "text/plain": [
       "🏁 Staring new 💬 chat session:\n"
      ]
     },
     "metadata": {},
     "output_type": "display_data"
    },
    {
     "data": {
      "text/html": [
       "<pre style=\"white-space:pre;overflow-x:auto;line-height:normal;font-family:Menlo,'DejaVu Sans Mono',consolas,'Courier New',monospace\"><span style=\"font-weight: bold\">👤 User:</span> Consider the following problem: If it takes <span style=\"font-weight: bold\">[</span><span style=\"color: #808000; text-decoration-color: #808000\">...</span><span style=\"font-weight: bold\">]</span>\n",
       "</pre>\n"
      ],
      "text/plain": [
       "\u001b[1m👤 User:\u001b[0m Consider the following problem: If it takes \u001b[1m[\u001b[0m\u001b[33m...\u001b[0m\u001b[1m]\u001b[0m\n"
      ]
     },
     "metadata": {},
     "output_type": "display_data"
    },
    {
     "data": {
      "text/html": [
       "<pre style=\"white-space:pre;overflow-x:auto;line-height:normal;font-family:Menlo,'DejaVu Sans Mono',consolas,'Courier New',monospace\"><span style=\"font-weight: bold\">🤖 Assistant:</span> Let's consider the given information: It <span style=\"font-weight: bold\">[</span><span style=\"color: #808000; text-decoration-color: #808000\">...</span><span style=\"font-weight: bold\">]</span>\n",
       "</pre>\n"
      ],
      "text/plain": [
       "\u001b[1m🤖 Assistant:\u001b[0m Let's consider the given information: It \u001b[1m[\u001b[0m\u001b[33m...\u001b[0m\u001b[1m]\u001b[0m\n"
      ]
     },
     "metadata": {},
     "output_type": "display_data"
    },
    {
     "data": {
      "text/html": [
       "<pre style=\"white-space:pre;overflow-x:auto;line-height:normal;font-family:Menlo,'DejaVu Sans Mono',consolas,'Courier New',monospace\"><span style=\"font-weight: bold\">👤 User:</span> Now, solve the above problem, taking into <span style=\"font-weight: bold\">[</span><span style=\"color: #808000; text-decoration-color: #808000\">...</span><span style=\"font-weight: bold\">]</span>\n",
       "</pre>\n"
      ],
      "text/plain": [
       "\u001b[1m👤 User:\u001b[0m Now, solve the above problem, taking into \u001b[1m[\u001b[0m\u001b[33m...\u001b[0m\u001b[1m]\u001b[0m\n"
      ]
     },
     "metadata": {},
     "output_type": "display_data"
    },
    {
     "data": {
      "text/html": [
       "<pre style=\"white-space:pre;overflow-x:auto;line-height:normal;font-family:Menlo,'DejaVu Sans Mono',consolas,'Courier New',monospace\"><span style=\"font-weight: bold\">🤖 Assistant:</span> Let's re-examine the problem: It takes <span style=\"color: #008080; text-decoration-color: #008080; font-weight: bold\">4</span> <span style=\"font-weight: bold\">[</span><span style=\"color: #808000; text-decoration-color: #808000\">...</span><span style=\"font-weight: bold\">]</span>\n",
       "</pre>\n"
      ],
      "text/plain": [
       "\u001b[1m🤖 Assistant:\u001b[0m Let's re-examine the problem: It takes \u001b[1;36m4\u001b[0m \u001b[1m[\u001b[0m\u001b[33m...\u001b[0m\u001b[1m]\u001b[0m\n"
      ]
     },
     "metadata": {},
     "output_type": "display_data"
    },
    {
     "data": {
      "text/html": [
       "<pre style=\"white-space:pre;overflow-x:auto;line-height:normal;font-family:Menlo,'DejaVu Sans Mono',consolas,'Courier New',monospace\"><span style=\"font-weight: bold\">👤 User:</span> Please carefully assess and improve the <span style=\"font-weight: bold\">[</span><span style=\"color: #808000; text-decoration-color: #808000\">...</span><span style=\"font-weight: bold\">]</span>\n",
       "</pre>\n"
      ],
      "text/plain": [
       "\u001b[1m👤 User:\u001b[0m Please carefully assess and improve the \u001b[1m[\u001b[0m\u001b[33m...\u001b[0m\u001b[1m]\u001b[0m\n"
      ]
     },
     "metadata": {},
     "output_type": "display_data"
    },
    {
     "data": {
      "text/html": [
       "<pre style=\"white-space:pre;overflow-x:auto;line-height:normal;font-family:Menlo,'DejaVu Sans Mono',consolas,'Courier New',monospace\"><span style=\"font-weight: bold\">🤖 Assistant:</span> Let's refine the solution to make it more <span style=\"font-weight: bold\">[</span><span style=\"color: #808000; text-decoration-color: #808000\">...</span><span style=\"font-weight: bold\">]</span>\n",
       "</pre>\n"
      ],
      "text/plain": [
       "\u001b[1m🤖 Assistant:\u001b[0m Let's refine the solution to make it more \u001b[1m[\u001b[0m\u001b[33m...\u001b[0m\u001b[1m]\u001b[0m\n"
      ]
     },
     "metadata": {},
     "output_type": "display_data"
    },
    {
     "data": {
      "text/html": [
       "<pre style=\"white-space:pre;overflow-x:auto;line-height:normal;font-family:Menlo,'DejaVu Sans Mono',consolas,'Courier New',monospace\"><span style=\"font-weight: bold\">👤 User:</span> Finally, extract the answer from the revised <span style=\"font-weight: bold\">[</span><span style=\"color: #808000; text-decoration-color: #808000\">...</span><span style=\"font-weight: bold\">]</span>\n",
       "</pre>\n"
      ],
      "text/plain": [
       "\u001b[1m👤 User:\u001b[0m Finally, extract the answer from the revised \u001b[1m[\u001b[0m\u001b[33m...\u001b[0m\u001b[1m]\u001b[0m\n"
      ]
     },
     "metadata": {},
     "output_type": "display_data"
    },
    {
     "data": {
      "text/html": [
       "<pre style=\"white-space:pre;overflow-x:auto;line-height:normal;font-family:Menlo,'DejaVu Sans Mono',consolas,'Courier New',monospace\"><span style=\"font-weight: bold\">🤖 Assistant:</span> It takes <span style=\"color: #008080; text-decoration-color: #008080; font-weight: bold\">4</span> chefs <span style=\"color: #008080; text-decoration-color: #008080; font-weight: bold\">4</span> minutes to make a single <span style=\"font-weight: bold\">[</span><span style=\"color: #808000; text-decoration-color: #808000\">...</span><span style=\"font-weight: bold\">]</span>\n",
       "</pre>\n"
      ],
      "text/plain": [
       "\u001b[1m🤖 Assistant:\u001b[0m It takes \u001b[1;36m4\u001b[0m chefs \u001b[1;36m4\u001b[0m minutes to make a single \u001b[1m[\u001b[0m\u001b[33m...\u001b[0m\u001b[1m]\u001b[0m\n"
      ]
     },
     "metadata": {},
     "output_type": "display_data"
    },
    {
     "data": {
      "text/html": [
       "<pre style=\"white-space:pre;overflow-x:auto;line-height:normal;font-family:Menlo,'DejaVu Sans Mono',consolas,'Courier New',monospace\">It takes <span style=\"color: #008080; text-decoration-color: #008080; font-weight: bold\">4</span> chefs <span style=\"color: #008080; text-decoration-color: #008080; font-weight: bold\">4</span> minutes to make a single sandwich. If there are <span style=\"color: #008080; text-decoration-color: #008080; font-weight: bold\">8</span> chefs working simultaneously, then each chef \n",
       "can make <span style=\"color: #008080; text-decoration-color: #008080; font-weight: bold\">1</span> slice of bread within their assigned time frame <span style=\"font-weight: bold\">(</span>i.e., <span style=\"color: #008080; text-decoration-color: #008080; font-weight: bold\">4</span> slices per chef<span style=\"font-weight: bold\">)</span>. However, if they work on \n",
       "multiple slices and create only one slice at a time, it takes longer than expected due to overlap between cooks.\n",
       "It takes <span style=\"color: #008080; text-decoration-color: #008080; font-weight: bold\">4</span> + <span style=\"color: #008080; text-decoration-color: #008080; font-weight: bold\">1</span> = <span style=\"color: #008080; text-decoration-color: #008080; font-weight: bold\">5</span> days for each cook to complete their tasks, as previously calculated. As previously mentioned, \n",
       "this is based solely on the assumption of each chef being able to make just one slice at a time and working in \n",
       "isolation when working together.\n",
       "With more cooks required to produce multiple slices or within specific sections of the cooking process, we need to \n",
       "consider potential bottlenecks:\n",
       "\n",
       "<span style=\"color: #008080; text-decoration-color: #008080; font-weight: bold\">1</span>. Other chefs who are not able to make one sandwich but can instead produce a wide range of single-slice \n",
       "sandwiches <span style=\"font-weight: bold\">(</span>e.g., taking turns making two<span style=\"font-weight: bold\">)</span> will take longer than expected due to their overlap with other cooks and\n",
       "work in isolation when working together.\n",
       "<span style=\"color: #008080; text-decoration-color: #008080; font-weight: bold\">2</span>. There could be other cooks who also cannot make just one slice at a time or within specific sections, so they'll\n",
       "take more days as previously mentioned for both the remaining portion of <span style=\"color: #008080; text-decoration-color: #008080; font-weight: bold\">6</span> days <span style=\"font-weight: bold\">(</span>\n",
       "</pre>\n"
      ],
      "text/plain": [
       "It takes \u001b[1;36m4\u001b[0m chefs \u001b[1;36m4\u001b[0m minutes to make a single sandwich. If there are \u001b[1;36m8\u001b[0m chefs working simultaneously, then each chef \n",
       "can make \u001b[1;36m1\u001b[0m slice of bread within their assigned time frame \u001b[1m(\u001b[0mi.e., \u001b[1;36m4\u001b[0m slices per chef\u001b[1m)\u001b[0m. However, if they work on \n",
       "multiple slices and create only one slice at a time, it takes longer than expected due to overlap between cooks.\n",
       "It takes \u001b[1;36m4\u001b[0m + \u001b[1;36m1\u001b[0m = \u001b[1;36m5\u001b[0m days for each cook to complete their tasks, as previously calculated. As previously mentioned, \n",
       "this is based solely on the assumption of each chef being able to make just one slice at a time and working in \n",
       "isolation when working together.\n",
       "With more cooks required to produce multiple slices or within specific sections of the cooking process, we need to \n",
       "consider potential bottlenecks:\n",
       "\n",
       "\u001b[1;36m1\u001b[0m. Other chefs who are not able to make one sandwich but can instead produce a wide range of single-slice \n",
       "sandwiches \u001b[1m(\u001b[0me.g., taking turns making two\u001b[1m)\u001b[0m will take longer than expected due to their overlap with other cooks and\n",
       "work in isolation when working together.\n",
       "\u001b[1;36m2\u001b[0m. There could be other cooks who also cannot make just one slice at a time or within specific sections, so they'll\n",
       "take more days as previously mentioned for both the remaining portion of \u001b[1;36m6\u001b[0m days \u001b[1m(\u001b[0m\n"
      ]
     },
     "metadata": {},
     "output_type": "display_data"
    }
   ],
   "source": [
    "# We can exploit this by unravelling a multi-step workflow turn by turn in a conversation.\n",
    "\n",
    "problem = \"If it takes 4 cooks 4 minutes to make 4 sandwichs, how long would it take 8 cooks to make 8 sandwichs?\"\n",
    "\n",
    "with llm.session() as chat:\n",
    "\n",
    "    chat.ask(\n",
    "        f\"Consider the following problem: {problem}\\n\\n\"\n",
    "        \"Please characterize the problem in abstract terms and identify potential pitfalls. \"\n",
    "        \"Don't solve the problem yet.\"\n",
    "    )\n",
    "    chat.ask(\"Now, solve the above problem, taking into account your reflections.\")\n",
    "    chat.ask(\"Please carefully assess and improve the solution provided.\")\n",
    "    answer = chat.ask(\"Finally, extract the answer from the revised solution.\")\n",
    "\n",
    "rich.print(answer)\n",
    "\n",
    "\n"
   ]
  },
  {
   "cell_type": "code",
   "execution_count": null,
   "metadata": {},
   "outputs": [],
   "source": []
  }
 ],
 "metadata": {
  "kernelspec": {
   "display_name": ".venv",
   "language": "python",
   "name": "python3"
  },
  "language_info": {
   "codemirror_mode": {
    "name": "ipython",
    "version": 3
   },
   "file_extension": ".py",
   "mimetype": "text/x-python",
   "name": "python",
   "nbconvert_exporter": "python",
   "pygments_lexer": "ipython3",
   "version": "3.11.11"
  }
 },
 "nbformat": 4,
 "nbformat_minor": 2
}
